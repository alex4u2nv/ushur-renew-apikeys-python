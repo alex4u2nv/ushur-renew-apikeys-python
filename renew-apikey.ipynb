{
 "cells": [
  {
   "cell_type": "markdown",
   "source": [
    "# Ushur API Key Renewal\n",
    "As a best practice, API keys should be rotated frequently. Ushur provides the ability to create keys with expiration dates, as well as revoke active keys. This document will show you how to automatically rotate your keys using the Ushur REST APIs with little to no interruption to your end users.\n",
    "![Creating Key through the Console](images/create_api.png)\n",
    "\n",
    "# Key Management Best Practices\n",
    "Before we get into it, we should ensure that there are baseline best practices incorporated into your key management policies.\n",
    "1. Even if it's automatic, this procedure should be executed during a maintenance window, or period of low system usage.\n",
    "2. Rotate Keys about 2 weeks before they expire. This gives you time to deal with any issues with rotation.\n",
    "3. If you're revoking keys, also do this after you've tested the configuration of your new key.\n",
    "4. Your new keys should be stored in an (encrypted vault)[https://geekflare.com/secret-management-software/]\n",
    "\n",
    "# Key Management Process\n",
    "Rotating your keys will follow the process outlined in the following sequence diagram:\n",
    "![Sequence Diagram](images/key_mgmt_seq.png)\n",
    "The diagram assumes that you're also already using a Secrets Vault to store and retrieve your `API_KEY` for use in your integrating application.\n",
    "\n",
    "#"
   ],
   "metadata": {
    "collapsed": false
   }
  },
  {
   "cell_type": "markdown",
   "source": [
    "# Common Imports"
   ],
   "metadata": {
    "collapsed": false
   }
  },
  {
   "cell_type": "code",
   "execution_count": null,
   "outputs": [],
   "source": [
    "# Common imports\n",
    "import requests\n",
    "import pandas as pd\n",
    "import yaml\n",
    "configs = {\n",
    "    \"endpoint\" : \"https://your.ushur.instance/\",\n",
    "    \"email\": \"your_email@example.com\",\n",
    "    \"token\" : \"UR.ushur_token\"\n",
    "}"
   ],
   "metadata": {
    "collapsed": false
   }
  },
  {
   "cell_type": "markdown",
   "source": [
    "# Create a New API_KEY\n",
    "This request will show you how to create a new `API_KEY` using your existing `API_KEY`. The key created will be set to expire in 90 days."
   ],
   "metadata": {
    "collapsed": false
   }
  },
  {
   "cell_type": "code",
   "execution_count": null,
   "outputs": [],
   "source": [
    "create_response=requests.post(f\"{configs.get('endpoint')}rest/apikey/create\",\n",
    "                json={\n",
    "                    \"userEmail\": configs.get('email'),\n",
    "                    \"description\": \"myNewKey\",\n",
    "                    \"expiryDays\": \"90\"\n",
    "                },\n",
    "                headers={\n",
    "                    \"content-type\": \"application/json\",\n",
    "                    \"token\": configs.get(\"token\")\n",
    "                } );"
   ],
   "metadata": {
    "collapsed": false
   }
  },
  {
   "cell_type": "markdown",
   "source": [
    "Retrieve the key into a variable for storage. Remember **Keep your Keys Safe**"
   ],
   "metadata": {
    "collapsed": false
   }
  },
  {
   "cell_type": "code",
   "execution_count": null,
   "outputs": [],
   "source": [
    "if create_response.status_code == 200:\n",
    "    api_key_data = create_response.json().get('data')\n",
    "else:\n",
    "    print(\"Error retrieving list of tokens\")\n",
    "    print(create_response.text)"
   ],
   "metadata": {
    "collapsed": false
   }
  },
  {
   "cell_type": "markdown",
   "source": [
    "\n",
    "# List existing keys\n",
    "To list your existing API_KEY data (not the actual key itself), you will Post the following request to the API `rest/apikey/list` at your Ushur instance endpoint."
   ],
   "metadata": {
    "collapsed": false
   }
  },
  {
   "cell_type": "code",
   "execution_count": null,
   "outputs": [],
   "source": [
    "list_response=requests.post(f\"{configs.get('endpoint')}rest/apikey/list\",\n",
    "                json={\n",
    "                    \"userEmail\": configs.get('email')\n",
    "                },\n",
    "                headers={\n",
    "    \"content-type\": \"application/json\",\n",
    "    \"token\": configs.get(\"token\")\n",
    "} );\n"
   ],
   "metadata": {
    "collapsed": false
   }
  },
  {
   "cell_type": "markdown",
   "source": [
    "### Rendering Ouput"
   ],
   "metadata": {
    "collapsed": false
   }
  },
  {
   "cell_type": "code",
   "execution_count": null,
   "outputs": [],
   "source": [
    "if list_response.status_code == 200:\n",
    "    j_data = list_response.json().get('data')\n",
    "    data = pd.DataFrame.from_dict(j_data)\n",
    "    print(data)\n",
    "else:\n",
    "    print(\"Error retrieving list of tokens\")\n",
    "    print(list_response.text)"
   ],
   "metadata": {
    "collapsed": false
   }
  },
  {
   "cell_type": "markdown",
   "source": [
    "# Revoke an API_KEY\n",
    "To revoke an API_KEY, you will need the `apiKeyId` associated with the `API_KEY` that you want to revoke.\n"
   ],
   "metadata": {
    "collapsed": false
   }
  },
  {
   "cell_type": "code",
   "execution_count": null,
   "outputs": [],
   "source": [
    "revoke_response=requests.post(f\"{configs.get('endpoint')}rest/apikey/revoke/{api_key_data.get('apiKeyId')}\",\n",
    "\n",
    "                headers={\n",
    "                    \"content-type\": \"application/json\",\n",
    "                    \"token\": configs.get(\"token\")\n",
    "                } );"
   ],
   "metadata": {
    "collapsed": false
   }
  },
  {
   "cell_type": "markdown",
   "source": [
    "Print Revocation Output\n"
   ],
   "metadata": {
    "collapsed": false
   }
  },
  {
   "cell_type": "code",
   "execution_count": null,
   "outputs": [],
   "source": [
    "if revoke_response.status_code == 200:\n",
    "    j_data = revoke_response.json()\n",
    "    print(j_data)\n",
    "else:\n",
    "    print(\"Error retrieving list of tokens\")\n",
    "    print(revoke_response.text)"
   ],
   "metadata": {
    "collapsed": false
   }
  },
  {
   "cell_type": "markdown",
   "source": [
    "# Putting it all together\n",
    "The following Script will take an API key from your configuration store, normally an encrypted vault, create a new key request, then use the new key to revoke access to the old key.\n",
    "\n",
    "Format for `~/ushur.yml` is\n",
    "```\n",
    "ushur:\n",
    "  apiKey: UR.ushur_apiKey\n",
    "  apiKeyId: ushurApiKeyId\n",
    "  email: your_email@example.com\n",
    "  endpoint: https://ushur_instance/\n",
    "```"
   ],
   "metadata": {
    "collapsed": false
   }
  },
  {
   "cell_type": "code",
   "execution_count": 79,
   "outputs": [],
   "source": [
    "\n",
    "import yaml\n",
    "import  os\n",
    "import requests\n",
    "config_file=os.path.expanduser(\"~/ushur.yml\")\n",
    "\n",
    "def retrieve_key():\n",
    "    \"\"\"\n",
    "    Retrieve the key from your configuration store\n",
    "    :return:\n",
    "    \"\"\"\n",
    "    with open(config_file, 'r') as yml:\n",
    "        return yaml.safe_load(yml)\n",
    "\n",
    "def create_key(config):\n",
    "    \"\"\"\n",
    "    Use the configurations that  you've loaded to create your new key\n",
    "    :param config:\n",
    "    :return:\n",
    "    \"\"\"\n",
    "    response=requests.post(f\"{config['ushur']['endpoint']}rest/apikey/create\",\n",
    "                                  json={\n",
    "                                      \"userEmail\": config['ushur']['email'],\n",
    "                                      \"description\": \"myNewKey\",\n",
    "                                      \"expiryDays\": \"90\"\n",
    "                                  },\n",
    "                                  headers={\n",
    "                                      \"content-type\": \"application/json\",\n",
    "                                      \"token\": config['ushur']['apiKey']\n",
    "                                  } );\n",
    "    if response.status_code == 200:\n",
    "        return response.json().get('data')\n",
    "    else:\n",
    "        raise Exception(f\"Status: {response.status_code} -- Error {response.text}\")\n",
    "\n",
    "\n",
    "def store_key(config, newkey):\n",
    "    \"\"\"\n",
    "    Store the new key into your configuration store. In this example, I'm using an external yaml file.\n",
    "    :param config:  original configuration object\n",
    "    :param newkey: your new key\n",
    "    :return:\n",
    "    \"\"\"\n",
    "\n",
    "    config['ushur']['apiKey']=newkey['apiKey']\n",
    "    config['ushur']['apiKeyId']=newkey['apiKeyId']\n",
    "    with open(config_file, 'w') as yml:\n",
    "        return yaml.dump(config, yml)\n",
    "\n",
    "\n",
    "\n",
    "def validate_key(config, newkey):\n",
    "    \"\"\"\n",
    "    Use the new key to test your integrations\n",
    "    :param config: original configuration object\n",
    "    :param newkey: your new key\n",
    "    :return:\n",
    "    \"\"\"\n",
    "    response=requests.post(f\"{config['ushur']['endpoint']}rest/apikey/list\",\n",
    "                                json={\n",
    "                                    \"userEmail\": config['ushur']['email']\n",
    "                                },\n",
    "                                headers={\n",
    "                                    \"content-type\": \"application/json\",\n",
    "                                    \"token\": newkey[\"apiKey\"]\n",
    "                                } );\n",
    "    if response.status_code!=200:\n",
    "        raise Exception(f\"Status: {response.status_code} -- Error: {response.text}\")\n",
    "\n",
    "\n",
    "def revoke_key(config, oldkey):\n",
    "    \"\"\"\n",
    "    Revoke your old key now that your new key is working.\n",
    "    :param config: configuration object with the newly created key\n",
    "    :param oldkey: the old key that needs to be revoked.\n",
    "    :return:\n",
    "    \"\"\"\n",
    "    revoke_response=requests.post(f\"{config['ushur']['endpoint']}rest/apikey/revoke/{oldkey.get('apiKeyId')}\",\n",
    "\n",
    "                                  headers={\n",
    "                                      \"content-type\": \"application/json\",\n",
    "                                      \"token\": config['ushur']['apiKey']\n",
    "                                  } );\n",
    "\n",
    "\n",
    "def rotate_key():\n",
    "    config = retrieve_key()\n",
    "    current_key= {\n",
    "        \"apiKeyId\": config['ushur']['apiKeyId'],\n",
    "        \"apiKey\": config[\"ushur\"][\"apiKey\"],\n",
    "    }\n",
    "    new_key = create_key(config)\n",
    "    validate_key(config, new_key)\n",
    "    store_key(config, new_key)\n",
    "    revoke_key(config, current_key)\n",
    "    print(\"Completed\")\n",
    "\n",
    "rotate_key()"
   ],
   "metadata": {
    "collapsed": false
   }
  },
  {
   "cell_type": "code",
   "execution_count": null,
   "outputs": [],
   "source": [],
   "metadata": {
    "collapsed": false
   }
  }
 ],
 "metadata": {
  "kernelspec": {
   "display_name": "Python 3",
   "language": "python",
   "name": "python3"
  },
  "language_info": {
   "codemirror_mode": {
    "name": "ipython",
    "version": 2
   },
   "file_extension": ".py",
   "mimetype": "text/x-python",
   "name": "python",
   "nbconvert_exporter": "python",
   "pygments_lexer": "ipython2",
   "version": "2.7.6"
  }
 },
 "nbformat": 4,
 "nbformat_minor": 0
}
